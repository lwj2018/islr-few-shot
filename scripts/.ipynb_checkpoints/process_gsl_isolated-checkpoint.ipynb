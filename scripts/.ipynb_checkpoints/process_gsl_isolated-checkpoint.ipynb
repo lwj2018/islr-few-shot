{
 "cells": [
  {
   "cell_type": "markdown",
   "metadata": {},
   "source": [
    "## Preprocess GSL isolated, select words with freq > 20"
   ]
  },
  {
   "cell_type": "code",
   "execution_count": 4,
   "metadata": {
    "tags": [
     "outputPrepend",
     "outputPrepend",
     "outputPrepend",
     "outputPrepend",
     "outputPrepend",
     "outputPrepend",
     "outputPrepend",
     "outputPrepend",
     "outputPrepend",
     "outputPrepend",
     "outputPrepend",
     "outputPrepend",
     "outputPrepend",
     "outputPrepend",
     "outputPrepend",
     "outputPrepend",
     "outputPrepend",
     "outputPrepend",
     "outputPrepend",
     "outputPrepend",
     "outputPrepend",
     "outputPrepend",
     "outputPrepend",
     "outputPrepend",
     "outputPrepend"
    ]
   },
   "outputs": [
    {
     "data": {
      "text/plain": [
       "329"
      ]
     },
     "execution_count": 4,
     "metadata": {},
     "output_type": "execute_result"
    }
   ],
   "source": [
    "from collections import Counter\n",
    "import pandas as pd\n",
    "df = pd.read_csv(\"/Users/liweijie/Downloads/Greek_isolated/GSL_isol/iso_annotations.csv\",sep='|')\n",
    "vocab = []\n",
    "for i in range(len(df)):\n",
    "    word = df.iloc[i,1].strip()\n",
    "    vocab.append(word)\n",
    "vocab = Counter(vocab)\n",
    "vocab = sorted(vocab.items(),key = lambda item:item[1],reverse=True)\n",
    "select_vocab = []\n",
    "for word in vocab:\n",
    "    if word[1] >= 20:\n",
    "        select_vocab.append(word)\n",
    "len(select_vocab)"
   ]
  }
 ],
 "metadata": {
  "kernelspec": {
   "display_name": "Python 3.7.6 64-bit",
   "language": "python",
   "name": "python37664bit0ecf791bd83b4b4eb3b96ac531fee81e"
  },
  "language_info": {
   "codemirror_mode": {
    "name": "ipython",
    "version": 3
   },
   "file_extension": ".py",
   "mimetype": "text/x-python",
   "name": "python",
   "nbconvert_exporter": "python",
   "pygments_lexer": "ipython3",
   "version": "3.7.6"
  }
 },
 "nbformat": 4,
 "nbformat_minor": 2
}
