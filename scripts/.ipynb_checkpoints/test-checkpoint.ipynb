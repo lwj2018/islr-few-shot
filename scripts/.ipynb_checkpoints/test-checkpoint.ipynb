{
 "cells": [
  {
   "cell_type": "code",
   "execution_count": null,
   "metadata": {
    "tags": [
     "outputPrepend"
    ]
   },
   "outputs": [],
   "source": [
    "# Analyze asllvd dataset\n",
    "import numpy\n",
    "import pickle\n",
    "from collections import Counter\n",
    "x = numpy.load(\"/Users/liweijie/Downloads/normalized/train_data.npy\")\n",
    "f = open(\"/Users/liweijie/Downloads/normalized/train_label.pkl\",'rb')\n",
    "y = pickle.load(f)\n",
    "label = y[1]\n",
    "freq_list = Counter(label)\n",
    "freq_list = sorted(freq_list.items(),key=lambda item:item[1],reverse=True)"
   ]
  },
  {
   "cell_type": "code",
   "execution_count": 9,
   "metadata": {},
   "outputs": [
    {
     "ename": "SyntaxError",
     "evalue": "can't use starred expression here (<ipython-input-9-04e9ffb34be0>, line 9)",
     "output_type": "error",
     "traceback": [
      "\u001b[0;36m  File \u001b[0;32m\"<ipython-input-9-04e9ffb34be0>\"\u001b[0;36m, line \u001b[0;32m9\u001b[0m\n\u001b[0;31mSyntaxError\u001b[0m\u001b[0;31m:\u001b[0m can't use starred expression here\n"
     ]
    }
   ],
   "source": [
    "def f1(a,b,c,d):\n",
    "    return a,b,c\n",
    "def f2(x,y,z,w):\n",
    "    print(\"%d %d %d %d\"%(x,y,z,w))\n",
    "f2(w=4,*f1(1,3,22,100))\n"
   ]
  }
 ],
 "metadata": {
  "file_extension": ".py",
  "kernelspec": {
   "display_name": "Python 3.7.6 64-bit",
   "language": "python",
   "name": "python37664bit0ecf791bd83b4b4eb3b96ac531fee81e"
  },
  "language_info": {
   "codemirror_mode": {
    "name": "ipython",
    "version": 3
   },
   "file_extension": ".py",
   "mimetype": "text/x-python",
   "name": "python",
   "nbconvert_exporter": "python",
   "pygments_lexer": "ipython3",
   "version": "3.7.6"
  },
  "mimetype": "text/x-python",
  "name": "python",
  "npconvert_exporter": "python",
  "pygments_lexer": "ipython3",
  "version": 3
 },
 "nbformat": 4,
 "nbformat_minor": 2
}
