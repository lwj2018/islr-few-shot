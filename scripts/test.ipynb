{
 "cells": [
  {
   "cell_type": "code",
   "execution_count": null,
   "metadata": {
    "tags": [
     "outputPrepend"
    ]
   },
   "outputs": [],
   "source": [
    "# Analyze asllvd dataset\n",
    "import numpy\n",
    "import pickle\n",
    "from collections import Counter\n",
    "x = numpy.load(\"/Users/liweijie/Downloads/normalized/train_data.npy\")\n",
    "f = open(\"/Users/liweijie/Downloads/normalized/train_label.pkl\",'rb')\n",
    "y = pickle.load(f)\n",
    "label = y[1]\n",
    "freq_list = Counter(label)\n",
    "freq_list = sorted(freq_list.items(),key=lambda item:item[1],reverse=True)"
   ]
  }
 ],
 "metadata": {
  "language_info": {
   "name": "python",
   "codemirror_mode": {
    "name": "ipython",
    "version": 3
   },
   "version": "3.7.6-final"
  },
  "orig_nbformat": 2,
  "file_extension": ".py",
  "mimetype": "text/x-python",
  "name": "python",
  "npconvert_exporter": "python",
  "pygments_lexer": "ipython3",
  "version": 3,
  "kernelspec": {
   "name": "python37664bit0ecf791bd83b4b4eb3b96ac531fee81e",
   "display_name": "Python 3.7.6 64-bit"
  }
 },
 "nbformat": 4,
 "nbformat_minor": 2
}