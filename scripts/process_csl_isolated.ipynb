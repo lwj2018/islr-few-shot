{
 "nbformat": 4,
 "nbformat_minor": 2,
 "metadata": {
  "language_info": {
   "name": "python",
   "codemirror_mode": {
    "name": "ipython",
    "version": 3
   },
   "version": "3.7.6-final"
  },
  "orig_nbformat": 2,
  "file_extension": ".py",
  "mimetype": "text/x-python",
  "name": "python",
  "npconvert_exporter": "python",
  "pygments_lexer": "ipython3",
  "version": 3,
  "kernelspec": {
   "name": "python37664bit0ecf791bd83b4b4eb3b96ac531fee81e",
   "display_name": "Python 3.7.6 64-bit"
  }
 },
 "cells": [
  {
   "cell_type": "code",
   "execution_count": 8,
   "metadata": {},
   "outputs": [],
   "source": [
    "import os\n",
    "import os.path as osp\n",
    "import numpy\n",
    "num_class = 500\n",
    "n_base = 400\n",
    "rearrange = numpy.random.permutation(numpy.arange(num_class))\n",
    "base_class = rearrange[:n_base]\n",
    "novel_class = rearrange[n_base:]\n",
    "dict_file = open('/Users/liweijie/SLR/scripts/dictionary.txt','r')\n",
    "newdict_file = open('new_dictionary.txt','w')\n",
    "dict = {}\n",
    "for record in dict_file.readlines():\n",
    "    ind, word = record.rstrip('\\n').split('\\t')\n",
    "    dict[int(ind)] = word\n",
    "for i,ind in enumerate(rearrange):\n",
    "    word = dict[ind]\n",
    "    record = '%06d'%i + '\\t' + '%06d'%ind + '\\t' + word + '\\n'\n",
    "    newdict_file.write(record)\n",
    "\n",
    "skeleton_root = \"/home/liweijie/skeletons_dataset\"\n",
    "trainvaltest_csv = open('../csv/trainvaltest.csv','w')\n",
    "trainvaltest_csv.write('foldername,label\\n')\n",
    "trainval_csv = open('../csv/trainval.csv','w')\n",
    "trainval_csv.write('foldername,label\\n')\n",
    "test_csv = open('../csv/test.csv','w')\n",
    "test_csv.write('foldername,label\\n')\n",
    "for i,c in enumerate(base_class):\n",
    "    c_folder = '%06d'%c\n",
    "    c_path = osp.join(skeleton_root,c_folder)\n",
    "    skeleton_list = os.listdir(c_path)\n",
    "    skeleton_list.sort()\n",
    "    for skeleton in skeleton_list:\n",
    "        skeleton_path = osp.join(c_folder,skeleton)\n",
    "        record = skeleton_path + ',' + str(i) + '\\n'\n",
    "        trainvaltest_csv.write(record)\n",
    "        trainval_csv.write(record)\n",
    "for i,c in enumerate(novel_class):\n",
    "    c_folder = '%06d'%c\n",
    "    c_path = osp.join(skeleton_root,c_folder)\n",
    "    skeleton_list = os.listdir(c_path)\n",
    "    skeleton_list.sort()\n",
    "    for skeleton in skeleton_list:\n",
    "        skeleton_path = osp.join(c_folder,skeleton)\n",
    "        record = skeleton_path + ',' + str(i+n_base) + '\\n'\n",
    "        trainvaltest_csv.write(record)\n",
    "        test_csv.write(record)  "
   ]
  }
 ]
}