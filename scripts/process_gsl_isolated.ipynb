{
 "cells": [
  {
   "cell_type": "markdown",
   "metadata": {},
   "source": [
    "## Preprocess GSL isolated, select words with freq > 20"
   ]
  },
  {
   "cell_type": "code",
   "execution_count": 25,
   "metadata": {
    "tags": [
     "outputPrepend",
     "outputPrepend",
     "outputPrepend",
     "outputPrepend",
     "outputPrepend",
     "outputPrepend",
     "outputPrepend",
     "outputPrepend",
     "outputPrepend",
     "outputPrepend",
     "outputPrepend",
     "outputPrepend",
     "outputPrepend",
     "outputPrepend",
     "outputPrepend",
     "outputPrepend",
     "outputPrepend",
     "outputPrepend",
     "outputPrepend",
     "outputPrepend",
     "outputPrepend",
     "outputPrepend",
     "outputPrepend",
     "outputPrepend",
     "outputPrepend"
    ]
   },
   "outputs": [
    {
     "data": {
      "text/plain": [
       "('ΔΕΗ', 35)"
      ]
     },
     "execution_count": 25,
     "metadata": {},
     "output_type": "execute_result"
    }
   ],
   "source": [
    "from collections import Counter\n",
    "import pandas as pd\n",
    "df = pd.read_csv(\"/Users/liweijie/Downloads/Greek_isolated/GSL_isol/iso_annotations.csv\",sep='|')\n",
    "vocab = []\n",
    "for i in range(len(df)):\n",
    "    word = df.iloc[i,1].strip()\n",
    "    vocab.append(word)\n",
    "vocab = Counter(vocab)\n",
    "vocab = sorted(vocab.items(),key = lambda item:item[1],reverse=True)\n",
    "wordToId = {}\n",
    "select_vocab = []\n",
    "count = 0\n",
    "for word in vocab:\n",
    "    if word[1] >= 20:\n",
    "        try:\n",
    "            int(word[0])\n",
    "        except:\n",
    "            if word[0] == '60+3':\n",
    "                continue\n",
    "            select_vocab.append(word)\n",
    "            wordToId[word[0]] = count\n",
    "            count += 1\n",
    "select_vocab,wordToId\n",
    "select_vocab[210]"
   ]
  },
  {
   "cell_type": "markdown",
   "metadata": {},
   "source": [
    "## Generate trainval, test & trainvaltest list, Account health, kep & police vocab"
   ]
  },
  {
   "cell_type": "code",
   "execution_count": 23,
   "metadata": {},
   "outputs": [],
   "source": [
    "import os\n",
    "import os.path as osp\n",
    "import numpy\n",
    "import json\n",
    "n_class = len(select_vocab) #315\n",
    "n_base = 210\n",
    "n_novel = 105\n",
    "C_base = range(n_base)\n",
    "C_novel = range(n_base,n_class)\n",
    "health_vocab = []\n",
    "kep_vocab = []\n",
    "police_vocab = []\n",
    "# open list files\n",
    "trainvaltest_csv = open('../csv/gsl/trainvaltest.csv','w')\n",
    "trainvaltest_csv.write('foldername,label\\n')\n",
    "trainval_csv = open('../csv/gsl/trainval.csv','w')\n",
    "trainval_csv.write('foldername,label\\n')\n",
    "test_csv = open('../csv/gsl/test.csv','w')\n",
    "test_csv.write('foldername,label\\n')\n",
    "container = []\n",
    "for i in range(len(df)):\n",
    "    path = df.iloc[i,0]\n",
    "    word = df.iloc[i,1].strip()\n",
    "    if word in wordToId.keys():\n",
    "        id = wordToId[word]\n",
    "        container.append([path,id])\n",
    "        if ('health' in path) and (not id in health_vocab):\n",
    "            health_vocab.append(id)\n",
    "        if ('kep' in path) and (not id in kep_vocab):\n",
    "            kep_vocab.append(id)\n",
    "        if ('police' in path) and (not id in police_vocab):\n",
    "            police_vocab.append(id)\n",
    "container = sorted(container,key = lambda item:item[1])\n",
    "for item in container:\n",
    "    path, id = item\n",
    "    record = path.strip()+'/keypoints.npy' + ',' + str(id) + '\\n'\n",
    "    if id in C_base:\n",
    "        trainval_csv.write(record)\n",
    "    else:\n",
    "        test_csv.write(record)\n",
    "    trainvaltest_csv.write(record)\n",
    "health_vocab.sort()\n",
    "kep_vocab.sort()\n",
    "police_vocab.sort()\n",
    "my_dict = {'health':health_vocab,\n",
    "           'kep':kep_vocab,\n",
    "           'police':police_vocab}\n",
    "json_fname = '../csv/gsl/vocab_category.json'\n",
    "json_str = json.dumps(my_dict, indent=4)\n",
    "with open(json_fname, 'w') as json_file:\n",
    "    json_file.write(json_str)"
   ]
  }
 ],
 "metadata": {
  "kernelspec": {
   "display_name": "Python 3.7.6 64-bit",
   "language": "python",
   "name": "python37664bit0ecf791bd83b4b4eb3b96ac531fee81e"
  },
  "language_info": {
   "codemirror_mode": {
    "name": "ipython",
    "version": 3
   },
   "file_extension": ".py",
   "mimetype": "text/x-python",
   "name": "python",
   "nbconvert_exporter": "python",
   "pygments_lexer": "ipython3",
   "version": "3.7.6"
  }
 },
 "nbformat": 4,
 "nbformat_minor": 2
}
